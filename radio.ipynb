{
  "cells": [
    {
      "cell_type": "code",
      "source": [
        "import tensorflow as tf\n",
        "from tensorflow import keras\n",
        "import os\n",
        "import cv2"
      ],
      "metadata": {
        "id": "58T2Ae3cldxe"
      },
      "execution_count": null,
      "outputs": []
    },
    {
      "cell_type": "code",
      "execution_count": null,
      "metadata": {
        "id": "kssXFfvj_p4I"
      },
      "outputs": [],
      "source": [
        "train_dataset = r'/content/drive/MyDrive/COVID 19/Train'\n",
        "categories = ['COVID','Lung_Opacity','Normal','Viral Pneumonia']\n",
        "data_1 =[]\n",
        "IMZ_SIZE = 180\n",
        "for category in categories:\n",
        "  folder_1 = os.path.join(train_dataset,category)\n",
        "  label_1 = categories.index(category)\n",
        "  for imz in os.listdir(folder_1):\n",
        "    imz_join = os.path.join(folder_1,imz)\n",
        "    imz_read = cv2.imread(imz_join)\n",
        "    imz_resize = cv2.resize(imz_read,(IMZ_SIZE,IMZ_SIZE))\n",
        "    data_1.append([imz_resize,label_1])\n"
      ]
    },
    {
      "cell_type": "code",
      "source": [
        "test_dataset = r'/content/drive/MyDrive/COVID 19/Test'\n",
        "data_2 = []\n",
        "for category in categories:\n",
        "  folder_2 = os.path.join(test_dataset,category)\n",
        "  label_2 = categories.index(category)\n",
        "  for imz_1 in os.listdir(folder_2):\n",
        "    imz_join2 = os.path.join(folder_2,imz_1)\n",
        "    imz_read2 = cv2.imread(imz_join2)\n",
        "    imz_resize1 = cv2.resize(imz_read2,(IMZ_SIZE,IMZ_SIZE))\n",
        "    data_2.append([imz_resize1,label_2])\n"
      ],
      "metadata": {
        "id": "eda5ZnP0lqqI"
      },
      "execution_count": null,
      "outputs": []
    },
    {
      "cell_type": "code",
      "source": [
        "#for training data\n",
        "import random\n",
        "random.shuffle(data_1)"
      ],
      "metadata": {
        "id": "U5vOLZO-lwaC"
      },
      "execution_count": null,
      "outputs": []
    },
    {
      "cell_type": "code",
      "source": [
        "import numpy as np\n",
        "X_train = []\n",
        "Y_train = []\n",
        "for features,labels in data_1:\n",
        "  X_train.append(features)\n",
        "  Y_train.append(labels)\n",
        "X_train = np.array(X_train)\n",
        "Y_train = np.array(Y_train)"
      ],
      "metadata": {
        "id": "D_ct9lOdl1Mx"
      },
      "execution_count": null,
      "outputs": []
    },
    {
      "cell_type": "code",
      "source": [
        "Y_train_reshape = Y_train.reshape(len(Y_train),1*1)\n",
        "Y_train_reshape[:5]"
      ],
      "metadata": {
        "colab": {
          "base_uri": "https://localhost:8080/"
        },
        "id": "k4ifv6aYl9i0",
        "outputId": "c25528ab-56bb-49cc-c73b-f7a58d09c2d3"
      },
      "execution_count": null,
      "outputs": [
        {
          "output_type": "execute_result",
          "data": {
            "text/plain": [
              "array([[2],\n",
              "       [2],\n",
              "       [0],\n",
              "       [3],\n",
              "       [2]])"
            ]
          },
          "metadata": {},
          "execution_count": 6
        }
      ]
    },
    {
      "cell_type": "code",
      "source": [
        "#categorical values\n",
        "Y_train_categorical = keras.utils.to_categorical(Y_train_reshape,num_classes=4,dtype='float32')\n",
        "Y_train_categorical[:5]"
      ],
      "metadata": {
        "colab": {
          "base_uri": "https://localhost:8080/"
        },
        "id": "U3NjLloNmDXb",
        "outputId": "ec009271-a7d5-45c1-81b8-6097e0f7e482"
      },
      "execution_count": null,
      "outputs": [
        {
          "output_type": "execute_result",
          "data": {
            "text/plain": [
              "array([[0., 0., 1., 0.],\n",
              "       [0., 0., 1., 0.],\n",
              "       [1., 0., 0., 0.],\n",
              "       [0., 0., 0., 1.],\n",
              "       [0., 0., 1., 0.]], dtype=float32)"
            ]
          },
          "metadata": {},
          "execution_count": 7
        }
      ]
    },
    {
      "cell_type": "code",
      "source": [
        "random.shuffle(data_2)"
      ],
      "metadata": {
        "id": "VQtjSbFtmEiu"
      },
      "execution_count": null,
      "outputs": []
    },
    {
      "cell_type": "code",
      "source": [
        "X_test = []\n",
        "Y_test = []\n",
        "for features,labels in data_2:\n",
        "  X_test.append(features)\n",
        "  Y_test.append(labels)\n",
        "X_test = np.array(X_test)\n",
        "Y_test = np.array(Y_test)\n"
      ],
      "metadata": {
        "id": "FpIO3vecmJW9"
      },
      "execution_count": null,
      "outputs": []
    },
    {
      "cell_type": "code",
      "source": [
        "Y_test_reshape = Y_test.reshape(len(Y_test),1*1)\n",
        "Y_test_categorical = keras.utils.to_categorical(Y_test_reshape,num_classes=4,dtype='float32')\n"
      ],
      "metadata": {
        "id": "TPXnHHY_mN88"
      },
      "execution_count": null,
      "outputs": []
    },
    {
      "cell_type": "code",
      "source": [
        "from keras.applications.vgg16 import VGG16"
      ],
      "metadata": {
        "id": "ZZ5SzglZmTg4"
      },
      "execution_count": null,
      "outputs": []
    },
    {
      "cell_type": "code",
      "source": [
        "conv_base = VGG16(\n",
        "    weights='imagenet',\n",
        "    include_top=False,\n",
        "    input_shape=(180,180,3)\n",
        ")"
      ],
      "metadata": {
        "colab": {
          "base_uri": "https://localhost:8080/"
        },
        "id": "CSoDttiemWx9",
        "outputId": "85cd57b0-c136-425f-8568-a9bd0614ce44"
      },
      "execution_count": null,
      "outputs": [
        {
          "output_type": "stream",
          "name": "stdout",
          "text": [
            "Downloading data from https://storage.googleapis.com/tensorflow/keras-applications/vgg16/vgg16_weights_tf_dim_ordering_tf_kernels_notop.h5\n",
            "58889256/58889256 [==============================] - 0s 0us/step\n"
          ]
        }
      ]
    },
    {
      "cell_type": "code",
      "source": [
        "conv_base.summary()"
      ],
      "metadata": {
        "colab": {
          "base_uri": "https://localhost:8080/"
        },
        "id": "Ra3B8CqamacD",
        "outputId": "3f4754a6-b028-4bd5-a895-b266ae4cf193"
      },
      "execution_count": null,
      "outputs": [
        {
          "output_type": "stream",
          "name": "stdout",
          "text": [
            "Model: \"vgg16\"\n",
            "_________________________________________________________________\n",
            " Layer (type)                Output Shape              Param #   \n",
            "=================================================================\n",
            " input_1 (InputLayer)        [(None, 180, 180, 3)]     0         \n",
            "                                                                 \n",
            " block1_conv1 (Conv2D)       (None, 180, 180, 64)      1792      \n",
            "                                                                 \n",
            " block1_conv2 (Conv2D)       (None, 180, 180, 64)      36928     \n",
            "                                                                 \n",
            " block1_pool (MaxPooling2D)  (None, 90, 90, 64)        0         \n",
            "                                                                 \n",
            " block2_conv1 (Conv2D)       (None, 90, 90, 128)       73856     \n",
            "                                                                 \n",
            " block2_conv2 (Conv2D)       (None, 90, 90, 128)       147584    \n",
            "                                                                 \n",
            " block2_pool (MaxPooling2D)  (None, 45, 45, 128)       0         \n",
            "                                                                 \n",
            " block3_conv1 (Conv2D)       (None, 45, 45, 256)       295168    \n",
            "                                                                 \n",
            " block3_conv2 (Conv2D)       (None, 45, 45, 256)       590080    \n",
            "                                                                 \n",
            " block3_conv3 (Conv2D)       (None, 45, 45, 256)       590080    \n",
            "                                                                 \n",
            " block3_pool (MaxPooling2D)  (None, 22, 22, 256)       0         \n",
            "                                                                 \n",
            " block4_conv1 (Conv2D)       (None, 22, 22, 512)       1180160   \n",
            "                                                                 \n",
            " block4_conv2 (Conv2D)       (None, 22, 22, 512)       2359808   \n",
            "                                                                 \n",
            " block4_conv3 (Conv2D)       (None, 22, 22, 512)       2359808   \n",
            "                                                                 \n",
            " block4_pool (MaxPooling2D)  (None, 11, 11, 512)       0         \n",
            "                                                                 \n",
            " block5_conv1 (Conv2D)       (None, 11, 11, 512)       2359808   \n",
            "                                                                 \n",
            " block5_conv2 (Conv2D)       (None, 11, 11, 512)       2359808   \n",
            "                                                                 \n",
            " block5_conv3 (Conv2D)       (None, 11, 11, 512)       2359808   \n",
            "                                                                 \n",
            " block5_pool (MaxPooling2D)  (None, 5, 5, 512)         0         \n",
            "                                                                 \n",
            "=================================================================\n",
            "Total params: 14,714,688\n",
            "Trainable params: 14,714,688\n",
            "Non-trainable params: 0\n",
            "_________________________________________________________________\n"
          ]
        }
      ]
    },
    {
      "cell_type": "code",
      "source": [
        "model = keras.Sequential([\n",
        "      conv_base,\n",
        "      keras.layers.Flatten(),\n",
        "      keras.layers.Dense(500,activation='relu'),\n",
        "      keras.layers.Dropout(0.3),\n",
        "      keras.layers.Dense(300,activation='relu'),\n",
        "      keras.layers.Dropout(0.3),\n",
        "      keras.layers.Dense(200,activation='relu'),\n",
        "      keras.layers.Dense(4,activation='softmax'),\n",
        "])\n",
        "\n",
        "\n"
      ],
      "metadata": {
        "id": "4CzvO_1Rmelp"
      },
      "execution_count": null,
      "outputs": []
    },
    {
      "cell_type": "code",
      "source": [
        "conv_base.trainable=False"
      ],
      "metadata": {
        "id": "TNzQS01lmlBT"
      },
      "execution_count": null,
      "outputs": []
    },
    {
      "cell_type": "code",
      "source": [
        "model.compile(optimizer='adam',loss='categorical_crossentropy',metrics=['accuracy'])\n",
        "model.fit(X_train,Y_train_categorical,epochs=20,validation_data=(X_test,Y_test_categorical),batch_size=5)"
      ],
      "metadata": {
        "colab": {
          "base_uri": "https://localhost:8080/"
        },
        "id": "sp3XXvEvmoLo",
        "outputId": "12e9c95b-a4ba-4963-d753-9a3ce349412b"
      },
      "execution_count": null,
      "outputs": [
        {
          "output_type": "stream",
          "name": "stdout",
          "text": [
            "Epoch 1/20\n",
            "3360/3360 [==============================] - 138s 37ms/step - loss: 1.3106 - accuracy: 0.7700 - val_loss: 0.3728 - val_accuracy: 0.8745\n",
            "Epoch 2/20\n",
            "3360/3360 [==============================] - 127s 38ms/step - loss: 0.4658 - accuracy: 0.8486 - val_loss: 0.3629 - val_accuracy: 0.8802\n",
            "Epoch 3/20\n",
            "3360/3360 [==============================] - 128s 38ms/step - loss: 0.4075 - accuracy: 0.8733 - val_loss: 0.4163 - val_accuracy: 0.8821\n",
            "Epoch 4/20\n",
            "3360/3360 [==============================] - 129s 38ms/step - loss: 0.3544 - accuracy: 0.8878 - val_loss: 0.3730 - val_accuracy: 0.8908\n",
            "Epoch 5/20\n",
            "3360/3360 [==============================] - 108s 32ms/step - loss: 0.3477 - accuracy: 0.8964 - val_loss: 0.3283 - val_accuracy: 0.8908\n",
            "Epoch 6/20\n",
            "3360/3360 [==============================] - 110s 33ms/step - loss: 0.3387 - accuracy: 0.9011 - val_loss: 0.3074 - val_accuracy: 0.9018\n",
            "Epoch 7/20\n",
            "3360/3360 [==============================] - 110s 33ms/step - loss: 0.3376 - accuracy: 0.8980 - val_loss: 0.4164 - val_accuracy: 0.8915\n",
            "Epoch 8/20\n",
            "3360/3360 [==============================] - 130s 39ms/step - loss: 0.2906 - accuracy: 0.9140 - val_loss: 0.3449 - val_accuracy: 0.8915\n",
            "Epoch 9/20\n",
            "3360/3360 [==============================] - 128s 38ms/step - loss: 0.2925 - accuracy: 0.9159 - val_loss: 0.3686 - val_accuracy: 0.8825\n",
            "Epoch 10/20\n",
            "3360/3360 [==============================] - 128s 38ms/step - loss: 0.2866 - accuracy: 0.9235 - val_loss: 0.8904 - val_accuracy: 0.9031\n",
            "Epoch 11/20\n",
            "3360/3360 [==============================] - 128s 38ms/step - loss: 0.3304 - accuracy: 0.9156 - val_loss: 0.3927 - val_accuracy: 0.8999\n",
            "Epoch 12/20\n",
            "3360/3360 [==============================] - 128s 38ms/step - loss: 0.2954 - accuracy: 0.9260 - val_loss: 0.3343 - val_accuracy: 0.9027\n",
            "Epoch 13/20\n",
            "3360/3360 [==============================] - 107s 32ms/step - loss: 0.2616 - accuracy: 0.9306 - val_loss: 0.3654 - val_accuracy: 0.8944\n",
            "Epoch 14/20\n",
            "3360/3360 [==============================] - 129s 39ms/step - loss: 0.2392 - accuracy: 0.9338 - val_loss: 0.5012 - val_accuracy: 0.8990\n",
            "Epoch 15/20\n",
            "3360/3360 [==============================] - 128s 38ms/step - loss: 0.2691 - accuracy: 0.9358 - val_loss: 0.4523 - val_accuracy: 0.9031\n",
            "Epoch 16/20\n",
            "3360/3360 [==============================] - 128s 38ms/step - loss: 0.2816 - accuracy: 0.9345 - val_loss: 0.5395 - val_accuracy: 0.8976\n",
            "Epoch 17/20\n",
            "3360/3360 [==============================] - 128s 38ms/step - loss: 0.2638 - accuracy: 0.9414 - val_loss: 0.6282 - val_accuracy: 0.8988\n",
            "Epoch 18/20\n",
            "3360/3360 [==============================] - 129s 38ms/step - loss: 0.2743 - accuracy: 0.9396 - val_loss: 0.5851 - val_accuracy: 0.9027\n",
            "Epoch 19/20\n",
            "3360/3360 [==============================] - 129s 38ms/step - loss: 0.2551 - accuracy: 0.9423 - val_loss: 0.7229 - val_accuracy: 0.9025\n",
            "Epoch 20/20\n",
            "3360/3360 [==============================] - 128s 38ms/step - loss: 0.2727 - accuracy: 0.9442 - val_loss: 1.1114 - val_accuracy: 0.9022\n"
          ]
        },
        {
          "output_type": "execute_result",
          "data": {
            "text/plain": [
              "<keras.callbacks.History at 0x78c7400a7c40>"
            ]
          },
          "metadata": {},
          "execution_count": 16
        }
      ]
    },
    {
      "cell_type": "code",
      "source": [
        "input_image = input('Enter the path of image:')\n",
        "input_path = cv2.imread(input_image)\n",
        "input_resize = cv2.resize(input_path,(180,180))\n",
        "input_reshape = input_resize.reshape(1,180,180,3)\n",
        "print(categories[np.argmax(model.predict(input_reshape))])\n",
        "\n"
      ],
      "metadata": {
        "colab": {
          "base_uri": "https://localhost:8080/"
        },
        "id": "CRjpkYCC8yla",
        "outputId": "374ab6f7-059f-441d-c75c-4c0fc5a4a895"
      },
      "execution_count": null,
      "outputs": [
        {
          "output_type": "stream",
          "name": "stdout",
          "text": [
            "Enter the path of image:/content/drive/MyDrive/x-ray-COVID-19-header-1920x1080_1800000007267872.jpg\n",
            "1/1 [==============================] - 1s 748ms/step\n",
            "COVID\n"
          ]
        }
      ]
    },
    {
      "cell_type": "code",
      "source": [
        "#saving the model\n",
        "model.save('/content/drive/MyDrive/saved model/model.h5')"
      ],
      "metadata": {
        "id": "-Gky8c09-QtY"
      },
      "execution_count": null,
      "outputs": []
    },
    {
      "cell_type": "code",
      "source": [
        "loaded_model = keras.models.load_model('model.h5')\n",
        "loaded_model.load_weights('model.h5')\n",
        "categories = ['COVID','Lung_Opacity','Normal','Viral Pneumonia']\n"
      ],
      "metadata": {
        "id": "wh7CvkZlFwRK"
      },
      "execution_count": null,
      "outputs": []
    },
    {
      "cell_type": "code",
      "source": [
        "input_image = input('Enter the path of image:')\n",
        "input_path = cv2.imread(input_image)\n",
        "input_resize = cv2.resize(input_path,(180,180))\n",
        "input_reshape = input_resize.reshape(1,180,180,3)\n",
        "print(categories[np.argmax(loaded_model.predict(input_reshape))])\n",
        "\n"
      ],
      "metadata": {
        "colab": {
          "base_uri": "https://localhost:8080/"
        },
        "outputId": "1f89f4b9-45e3-46ee-e17f-c86954a10096",
        "id": "lP24PzJ6GP71"
      },
      "execution_count": null,
      "outputs": [
        {
          "output_type": "stream",
          "name": "stdout",
          "text": [
            "Enter the path of image:/content/drive/MyDrive/x-ray-COVID-19-header-1920x1080_1800000007267872.jpg\n",
            "1/1 [==============================] - 0s 21ms/step\n",
            "COVID\n"
          ]
        }
      ]
    }
  ],
  "metadata": {
    "accelerator": "GPU",
    "colab": {
      "provenance": [],
      "gpuType": "T4"
    },
    "kernelspec": {
      "display_name": "Python 3",
      "name": "python3"
    },
    "language_info": {
      "name": "python"
    }
  },
  "nbformat": 4,
  "nbformat_minor": 0
}